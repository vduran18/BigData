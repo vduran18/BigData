{
 "cells": [
  {
   "cell_type": "code",
   "execution_count": 1,
   "metadata": {},
   "outputs": [
    {
     "name": "stdout",
     "output_type": "stream",
     "text": [
      "3.0.0\n"
     ]
    }
   ],
   "source": [
    "import time\n",
    "from pyspark.sql import SparkSession, functions\n",
    "\n",
    "start = time.time()\n",
    "\n",
    "spark = SparkSession.builder.appName('ecomm').getOrCreate()\n",
    "\n",
    "input_bucket = 's3://pyspark-emr-week4'\n",
    "input_path = '/eCommerce.csv'\n",
    "\n",
    "# Step 1: Load the Data\n",
    "df_raw = spark.read.csv(input_bucket + input_path, header = True, inferSchema = True)\n",
    "\n",
    "print(time.time() - start)\n",
    "\n",
    "df_raw.printSchema()"
   ]
  },
  {
   "cell_type": "code",
   "execution_count": 4,
   "metadata": {},
   "outputs": [
    {
     "name": "stdout",
     "output_type": "stream",
     "text": [
      "Wall time: 42.9 ms\n"
     ]
    }
   ],
   "source": [
    "# Step 2: Prepare data for classification.\n",
    "\n",
    "start = time.time()\n",
    "\n",
    "# Create a new column which just uses first word before ‘.’ in category_code.\n",
    "split_col = functions.split(df_raw['category_code'], '\\.')\n",
    "df_new = df_raw.withColumn('category', split_col.getItem(0))\n",
    "\n",
    "print(time.time() - start)"
   ]
  },
  {
   "cell_type": "code",
   "execution_count": 5,
   "metadata": {},
   "outputs": [
    {
     "name": "stdout",
     "output_type": "stream",
     "text": [
      "+-----------+---------+-------+----------+\n",
      "|   category|    brand|  price|event_type|\n",
      "+-----------+---------+-------+----------+\n",
      "|electronics|   huawei| 270.42|      view|\n",
      "|electronics|    yasin| 359.08|      view|\n",
      "| appliances|  almacom| 180.16|      view|\n",
      "|    apparel|  respect|  44.79|      view|\n",
      "|electronics|  samsung| 150.95|      view|\n",
      "|electronics|   xiaomi|  98.51|      cart|\n",
      "|electronics|    apple| 180.13|      view|\n",
      "|electronics|    casio|   27.0|      view|\n",
      "|electronics|  samsung| 385.85|      view|\n",
      "|electronics|  samsung| 396.15|      view|\n",
      "|  computers|     asus| 357.25|      view|\n",
      "|  computers|     acer| 437.57|      view|\n",
      "|electronics|    artel| 231.64|      view|\n",
      "|       kids|   chicco| 141.55|      view|\n",
      "|  furniture|      brw| 387.14|      view|\n",
      "| appliances|    artel|  93.62|      view|\n",
      "|electronics|  samsung| 130.99|      view|\n",
      "|electronics|     oris|1891.94|      view|\n",
      "|electronics|changhong| 359.37|      view|\n",
      "| appliances|  gorenje| 373.21|      view|\n",
      "+-----------+---------+-------+----------+\n",
      "only showing top 20 rows\n",
      "\n",
      "Wall time: 343 ms\n"
     ]
    }
   ],
   "source": [
    "# Step 2: Prepare data for classification.\n",
    "\n",
    "start = time.time()\n",
    "\n",
    "# Use category_code, brand, and price as input variables.\n",
    "# Use event type as target variable.\n",
    "df = df_new[['category', 'brand', 'price', 'event_type']]\n",
    "\n",
    "print(time.time() - start)\n",
    "\n",
    "df.show()"
   ]
  },
  {
   "cell_type": "code",
   "execution_count": 6,
   "metadata": {},
   "outputs": [
    {
     "name": "stdout",
     "output_type": "stream",
     "text": [
      "root\n",
      " |-- label: double (nullable = false)\n",
      " |-- features: vector (nullable = true)\n",
      " |-- category: string (nullable = true)\n",
      " |-- brand: string (nullable = true)\n",
      " |-- price: double (nullable = true)\n",
      " |-- event_type: string (nullable = true)\n",
      "\n",
      "Wall time: 24.9 s\n"
     ]
    }
   ],
   "source": [
    "# Step 2: Prepare data for classification.\n",
    "\n",
    "start = time.time()\n",
    "\n",
    "# Change categorical variables to numerical variables if necessary by using one-hot encoding. \n",
    "from pyspark.ml.feature import OneHotEncoderEstimator, StringIndexer, VectorAssembler\n",
    "\n",
    "categoricalColumns = ['category', 'brand']\n",
    "stages = []\n",
    "\n",
    "for categoricalCol in categoricalColumns:\n",
    "    stringIndexer = StringIndexer(inputCol = categoricalCol, outputCol = categoricalCol + 'Index')\n",
    "    encoder = OneHotEncoderEstimator(inputCols=[stringIndexer.getOutputCol()], outputCols=[categoricalCol + \"classVec\"])\n",
    "    stages += [stringIndexer, encoder]\n",
    "\n",
    "label_stringIdx = StringIndexer(inputCol = 'event_type', outputCol = 'label')\n",
    "stages += [label_stringIdx]\n",
    "\n",
    "numericCols = ['price'] # Numerical Features\n",
    "assemblerInputs = [c + \"classVec\" for c in categoricalColumns] + numericCols\n",
    "assembler = VectorAssembler(inputCols=assemblerInputs, outputCol=\"features\")\n",
    "stages += [assembler]\n",
    "\n",
    "from pyspark.ml import Pipeline\n",
    "pipeline = Pipeline(stages = stages)\n",
    "pipelineModel = pipeline.fit(df)\n",
    "df_pipe = pipelineModel.transform(df)\n",
    "selectedCols = ['label', 'features'] + df.columns\n",
    "df_select = df_pipe.select(selectedCols)\n",
    "\n",
    "print(time.time() - start)\n",
    "\n",
    "df_select.printSchema()"
   ]
  },
  {
   "cell_type": "code",
   "execution_count": 7,
   "metadata": {},
   "outputs": [
    {
     "name": "stdout",
     "output_type": "stream",
     "text": [
      "Training Dataset Count: 6137234\n",
      "Test Dataset Count: 2627771\n",
      "Wall time: 1min 18s\n"
     ]
    }
   ],
   "source": [
    "# Step 3: Split data into train and test.\n",
    "\n",
    "start = time.time()\n",
    "\n",
    "train, test = df_select.randomSplit([0.7, 0.3], seed = 2018)\n",
    "\n",
    "print(time.time() - start)\n",
    "\n",
    "print(\"Training Dataset Count: \" + str(train.count()))\n",
    "print(\"Test Dataset Count: \" + str(test.count()))"
   ]
  },
  {
   "cell_type": "code",
   "execution_count": 8,
   "metadata": {},
   "outputs": [
    {
     "name": "stdout",
     "output_type": "stream",
     "text": [
      "+-----------+-------+-----+-----+--------------------+----------+--------------------+\n",
      "|   category|  brand|price|label|       rawPrediction|prediction|         probability|\n",
      "+-----------+-------+-----+-----+--------------------+----------+--------------------+\n",
      "|electronics|samsung| 5.64|  0.0|[1.81796790662471...|       0.0|[0.87965783234372...|\n",
      "|electronics|samsung| 5.64|  0.0|[1.81796790662471...|       0.0|[0.87965783234372...|\n",
      "|electronics|samsung| 6.16|  0.0|[1.81824177641175...|       0.0|[0.87970283194473...|\n",
      "|electronics|samsung| 6.22|  0.0|[1.81827337677180...|       0.0|[0.87970802325653...|\n",
      "|electronics|samsung| 6.67|  0.0|[1.81851037947213...|       0.0|[0.87974695183188...|\n",
      "|electronics|samsung| 6.67|  0.0|[1.81851037947213...|       0.0|[0.87974695183188...|\n",
      "|electronics|samsung| 6.67|  0.0|[1.81851037947213...|       0.0|[0.87974695183188...|\n",
      "|electronics|samsung| 6.67|  0.0|[1.81851037947213...|       0.0|[0.87974695183188...|\n",
      "|electronics|samsung| 6.67|  0.0|[1.81851037947213...|       0.0|[0.87974695183188...|\n",
      "|electronics|samsung| 6.67|  0.0|[1.81851037947213...|       0.0|[0.87974695183188...|\n",
      "+-----------+-------+-----+-----+--------------------+----------+--------------------+\n",
      "only showing top 10 rows\n",
      "\n",
      "Test Area Under ROC 0.695984400359493\n",
      "Wall time: 3min 1s\n"
     ]
    }
   ],
   "source": [
    "# Step 3: Use Logistic Regression to perform classification on event type (view, cart, purchase).\n",
    "\n",
    "start = time.time()\n",
    "\n",
    "from pyspark.ml.classification import LogisticRegression\n",
    "\n",
    "lr = LogisticRegression(featuresCol = 'features', labelCol = 'label', maxIter=10)\n",
    "lrModel = lr.fit(train)\n",
    "\n",
    "predictions = lrModel.transform(test)\n",
    "predictions.select('category', 'brand', 'price', 'label', 'rawPrediction', 'prediction', 'probability').show(10)\n",
    "\n",
    "from pyspark.ml.evaluation import BinaryClassificationEvaluator\n",
    "\n",
    "evaluator = BinaryClassificationEvaluator()\n",
    "print('Test Area Under ROC', evaluator.evaluate(predictions))\n",
    "\n",
    "print(time.time() - start)"
   ]
  },
  {
   "cell_type": "code",
   "execution_count": 9,
   "metadata": {},
   "outputs": [
    {
     "name": "stdout",
     "output_type": "stream",
     "text": [
      "+-----------+-------+-----+-----+--------------------+----------+--------------------+\n",
      "|   category|  brand|price|label|       rawPrediction|prediction|         probability|\n",
      "+-----------+-------+-----+-----+--------------------+----------+--------------------+\n",
      "|electronics|samsung| 5.64|  0.0|[5823074.0,186861...|       0.0|[0.94881081607773...|\n",
      "|electronics|samsung| 5.64|  0.0|[5823074.0,186861...|       0.0|[0.94881081607773...|\n",
      "|electronics|samsung| 6.16|  0.0|[5823074.0,186861...|       0.0|[0.94881081607773...|\n",
      "|electronics|samsung| 6.22|  0.0|[5823074.0,186861...|       0.0|[0.94881081607773...|\n",
      "|electronics|samsung| 6.67|  0.0|[5823074.0,186861...|       0.0|[0.94881081607773...|\n",
      "|electronics|samsung| 6.67|  0.0|[5823074.0,186861...|       0.0|[0.94881081607773...|\n",
      "|electronics|samsung| 6.67|  0.0|[5823074.0,186861...|       0.0|[0.94881081607773...|\n",
      "|electronics|samsung| 6.67|  0.0|[5823074.0,186861...|       0.0|[0.94881081607773...|\n",
      "|electronics|samsung| 6.67|  0.0|[5823074.0,186861...|       0.0|[0.94881081607773...|\n",
      "|electronics|samsung| 6.67|  0.0|[5823074.0,186861...|       0.0|[0.94881081607773...|\n",
      "+-----------+-------+-----+-----+--------------------+----------+--------------------+\n",
      "only showing top 10 rows\n",
      "\n",
      "Test Area Under ROC: 0.5\n",
      "Wall time: 24min 48s\n"
     ]
    }
   ],
   "source": [
    "# Step 3: Use decision tree to perform classification on event type (view, cart, purchase).\n",
    "\n",
    "start = time.time()\n",
    "\n",
    "from pyspark.ml.classification import DecisionTreeClassifier\n",
    "\n",
    "dt = DecisionTreeClassifier(featuresCol = 'features', labelCol = 'label', maxDepth = 3)\n",
    "dtModel = dt.fit(train)\n",
    "predictions_dt = dtModel.transform(test)\n",
    "predictions_dt.select('category', 'brand', 'price', 'label', 'rawPrediction', 'prediction', 'probability').show(10)\n",
    "\n",
    "evaluator_dt = BinaryClassificationEvaluator()\n",
    "print(\"Test Area Under ROC: \" + str(evaluator_dt.evaluate(predictions_dt, {evaluator_dt.metricName: \"areaUnderROC\"})))\n",
    "\n",
    "print(time.time() - start)"
   ]
  },
  {
   "cell_type": "code",
   "execution_count": 10,
   "metadata": {},
   "outputs": [
    {
     "name": "stdout",
     "output_type": "stream",
     "text": [
      "+-----------+-------+-----+-----+--------------------+----------+--------------------+\n",
      "|   category|  brand|price|label|       rawPrediction|prediction|         probability|\n",
      "+-----------+-------+-----+-----+--------------------+----------+--------------------+\n",
      "|electronics|samsung| 5.64|  0.0|[18.9758111525724...|       0.0|[0.94879055762862...|\n",
      "|electronics|samsung| 5.64|  0.0|[18.9758111525724...|       0.0|[0.94879055762862...|\n",
      "|electronics|samsung| 6.16|  0.0|[18.9758111525724...|       0.0|[0.94879055762862...|\n",
      "|electronics|samsung| 6.22|  0.0|[18.9758111525724...|       0.0|[0.94879055762862...|\n",
      "|electronics|samsung| 6.67|  0.0|[18.9758111525724...|       0.0|[0.94879055762862...|\n",
      "|electronics|samsung| 6.67|  0.0|[18.9758111525724...|       0.0|[0.94879055762862...|\n",
      "|electronics|samsung| 6.67|  0.0|[18.9758111525724...|       0.0|[0.94879055762862...|\n",
      "|electronics|samsung| 6.67|  0.0|[18.9758111525724...|       0.0|[0.94879055762862...|\n",
      "|electronics|samsung| 6.67|  0.0|[18.9758111525724...|       0.0|[0.94879055762862...|\n",
      "|electronics|samsung| 6.67|  0.0|[18.9758111525724...|       0.0|[0.94879055762862...|\n",
      "+-----------+-------+-----+-----+--------------------+----------+--------------------+\n",
      "only showing top 10 rows\n",
      "\n",
      "Test Area Under ROC: 0.6959799392865533\n",
      "Wall time: 26min 31s\n"
     ]
    }
   ],
   "source": [
    "# Step 3: Use random forest to perform classification on event type (view, cart, purchase). \n",
    "\n",
    "start = time.time()\n",
    "\n",
    "from pyspark.ml.classification import RandomForestClassifier\n",
    "\n",
    "rf = RandomForestClassifier(featuresCol = 'features', labelCol = 'label')\n",
    "rfModel = rf.fit(train)\n",
    "predictions_rf = rfModel.transform(test)\n",
    "predictions_rf.select('category', 'brand', 'price', 'label', 'rawPrediction', 'prediction', 'probability').show(10)\n",
    "\n",
    "evaluator_rf = BinaryClassificationEvaluator()\n",
    "print(\"Test Area Under ROC: \" + str(evaluator_rf.evaluate(predictions, {evaluator_rf.metricName: \"areaUnderROC\"})))\n",
    "\n",
    "print(time.time() - start)"
   ]
  },
  {
   "cell_type": "code",
   "execution_count": null,
   "metadata": {},
   "outputs": [],
   "source": []
  }
 ],
 "metadata": {
  "kernelspec": {
   "display_name": "Python 3",
   "language": "python",
   "name": "python3"
  },
  "language_info": {
   "codemirror_mode": {
    "name": "ipython",
    "version": 3
   },
   "file_extension": ".py",
   "mimetype": "text/x-python",
   "name": "python",
   "nbconvert_exporter": "python",
   "pygments_lexer": "ipython3",
   "version": "3.7.6"
  }
 },
 "nbformat": 4,
 "nbformat_minor": 4
}
